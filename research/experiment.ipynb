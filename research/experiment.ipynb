{
 "cells": [
  {
   "cell_type": "code",
   "execution_count": 2,
   "metadata": {},
   "outputs": [],
   "source": [
    "import pandas as pd"
   ]
  },
  {
   "cell_type": "code",
   "execution_count": 10,
   "metadata": {},
   "outputs": [],
   "source": [
    "geojson_df = pd.read_csv(\"/workspaces/rudder/research/geojson_lookup_rows.csv\")\n",
    "energy_disclosure_df = pd.read_csv(\"/workspaces/rudder/research/energy_disclosure_2021_rows.csv\")"
   ]
  },
  {
   "cell_type": "code",
   "execution_count": 11,
   "metadata": {},
   "outputs": [
    {
     "data": {
      "text/html": [
       "<div>\n",
       "<style scoped>\n",
       "    .dataframe tbody tr th:only-of-type {\n",
       "        vertical-align: middle;\n",
       "    }\n",
       "\n",
       "    .dataframe tbody tr th {\n",
       "        vertical-align: top;\n",
       "    }\n",
       "\n",
       "    .dataframe thead th {\n",
       "        text-align: right;\n",
       "    }\n",
       "</style>\n",
       "<table border=\"1\" class=\"dataframe\">\n",
       "  <thead>\n",
       "    <tr style=\"text-align: right;\">\n",
       "      <th></th>\n",
       "      <th>10_Digit_BBL</th>\n",
       "      <th>GeoBuilding</th>\n",
       "      <th>Latitude</th>\n",
       "      <th>Longitude</th>\n",
       "    </tr>\n",
       "  </thead>\n",
       "  <tbody>\n",
       "    <tr>\n",
       "      <th>0</th>\n",
       "      <td>3017620041</td>\n",
       "      <td>{\"type\":\"Feature\",\"geometry\":{\"type\":\"MultiPol...</td>\n",
       "      <td>-73.955008</td>\n",
       "      <td>40.692556</td>\n",
       "    </tr>\n",
       "    <tr>\n",
       "      <th>1</th>\n",
       "      <td>1007017501</td>\n",
       "      <td>NaN</td>\n",
       "      <td>NaN</td>\n",
       "      <td>NaN</td>\n",
       "    </tr>\n",
       "    <tr>\n",
       "      <th>2</th>\n",
       "      <td>3021077502</td>\n",
       "      <td>NaN</td>\n",
       "      <td>NaN</td>\n",
       "      <td>NaN</td>\n",
       "    </tr>\n",
       "    <tr>\n",
       "      <th>3</th>\n",
       "      <td>1000130001</td>\n",
       "      <td>{\"type\":\"Feature\",\"geometry\":{\"type\":\"MultiPol...</td>\n",
       "      <td>-74.014611</td>\n",
       "      <td>40.704959</td>\n",
       "    </tr>\n",
       "    <tr>\n",
       "      <th>4</th>\n",
       "      <td>1000130005</td>\n",
       "      <td>{\"type\":\"Feature\",\"geometry\":{\"type\":\"MultiPol...</td>\n",
       "      <td>-74.014242</td>\n",
       "      <td>40.705379</td>\n",
       "    </tr>\n",
       "  </tbody>\n",
       "</table>\n",
       "</div>"
      ],
      "text/plain": [
       "   10_Digit_BBL                                        GeoBuilding   Latitude  \\\n",
       "0    3017620041  {\"type\":\"Feature\",\"geometry\":{\"type\":\"MultiPol... -73.955008   \n",
       "1    1007017501                                                NaN        NaN   \n",
       "2    3021077502                                                NaN        NaN   \n",
       "3    1000130001  {\"type\":\"Feature\",\"geometry\":{\"type\":\"MultiPol... -74.014611   \n",
       "4    1000130005  {\"type\":\"Feature\",\"geometry\":{\"type\":\"MultiPol... -74.014242   \n",
       "\n",
       "   Longitude  \n",
       "0  40.692556  \n",
       "1        NaN  \n",
       "2        NaN  \n",
       "3  40.704959  \n",
       "4  40.705379  "
      ]
     },
     "execution_count": 11,
     "metadata": {},
     "output_type": "execute_result"
    },
    {
     "name": "stderr",
     "output_type": "stream",
     "text": [
      "Bad pipe message: %s [b'0.9,image/avif,image/webp,image/apng,*/*;q=0.8\\r\\nHost: localhost:46411\\r\\nUser-Agent: Mozilla/5.0 (Windows NT 10.0;', b'in64; x64) AppleWebKit/537.36 (', b'TML, like Gecko) Chrome/127.0.0.0 Safari/537.36\\r\\nAccept-Encoding: gzip, de']\n",
      "Bad pipe message: %s [b'ate, br, zstd\\r\\nAccept-Language: en-US,en;q=0.9\\r\\nCache-Control: max-age=0\\r\\nReferer: https://github.com']\n",
      "Bad pipe message: %s [b'\\nX-Request-ID: c46222ec214dddf8059aaeca578e0f7', b'\\nX-Real-IP: 10.240.4.3\\r\\nX-Forwarded-Port: 443\\r\\nX-Forwarded-Scheme: https\\r\\nX-Original-URI: /\\r\\nX-S', b'eme: https\\r\\nsec-gpc: 1\\r\\nsec-fetch-site: cross-site\\r\\nsec-fetch-mode: navigate\\r\\nsec-fetch-user: ?1\\r\\n']\n",
      "Bad pipe message: %s [b'c-fetch-dest: document\\r\\nsec-ch-ua: \"Not)A;Brand\";v=\"99\", \"Brave\";v=\"127\", \"Chromium\";v=\"127\"\\r\\nsec-ch-ua-mobile: ?0', b'sec-ch-ua-pl']\n",
      "Bad pipe message: %s [b'form: \"Windows\"\\r\\npriority: u=0, i\\r\\nX-Original-Proto: https\\r\\nX-Forwarded-Proto: https\\r\\nX-Forwarde']\n"
     ]
    }
   ],
   "source": [
    "geojson_df.head()"
   ]
  },
  {
   "cell_type": "code",
   "execution_count": null,
   "metadata": {},
   "outputs": [],
   "source": []
  }
 ],
 "metadata": {
  "kernelspec": {
   "display_name": "Python 3",
   "language": "python",
   "name": "python3"
  },
  "language_info": {
   "codemirror_mode": {
    "name": "ipython",
    "version": 3
   },
   "file_extension": ".py",
   "mimetype": "text/x-python",
   "name": "python",
   "nbconvert_exporter": "python",
   "pygments_lexer": "ipython3",
   "version": "3.10.13"
  }
 },
 "nbformat": 4,
 "nbformat_minor": 2
}
