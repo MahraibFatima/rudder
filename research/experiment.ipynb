{
 "cells": [
  {
   "cell_type": "code",
   "execution_count": 2,
   "metadata": {},
   "outputs": [],
   "source": [
    "import pandas as pd"
   ]
  },
  {
   "cell_type": "code",
   "execution_count": 10,
   "metadata": {},
   "outputs": [],
   "source": [
    "geojson_df = pd.read_csv(\"/workspaces/rudder/research/geojson_lookup_rows.csv\")\n",
    "energy_disclosure_df = pd.read_csv(\"/workspaces/rudder/research/energy_disclosure_2021_rows.csv\")"
   ]
  },
  {
   "cell_type": "code",
   "execution_count": 11,
   "metadata": {},
   "outputs": [
    {
     "data": {
      "text/html": [
       "<div>\n",
       "<style scoped>\n",
       "    .dataframe tbody tr th:only-of-type {\n",
       "        vertical-align: middle;\n",
       "    }\n",
       "\n",
       "    .dataframe tbody tr th {\n",
       "        vertical-align: top;\n",
       "    }\n",
       "\n",
       "    .dataframe thead th {\n",
       "        text-align: right;\n",
       "    }\n",
       "</style>\n",
       "<table border=\"1\" class=\"dataframe\">\n",
       "  <thead>\n",
       "    <tr style=\"text-align: right;\">\n",
       "      <th></th>\n",
       "      <th>10_Digit_BBL</th>\n",
       "      <th>GeoBuilding</th>\n",
       "      <th>Latitude</th>\n",
       "      <th>Longitude</th>\n",
       "    </tr>\n",
       "  </thead>\n",
       "  <tbody>\n",
       "    <tr>\n",
       "      <th>0</th>\n",
       "      <td>3017620041</td>\n",
       "      <td>{\"type\":\"Feature\",\"geometry\":{\"type\":\"MultiPol...</td>\n",
       "      <td>-73.955008</td>\n",
       "      <td>40.692556</td>\n",
       "    </tr>\n",
       "    <tr>\n",
       "      <th>1</th>\n",
       "      <td>1007017501</td>\n",
       "      <td>NaN</td>\n",
       "      <td>NaN</td>\n",
       "      <td>NaN</td>\n",
       "    </tr>\n",
       "    <tr>\n",
       "      <th>2</th>\n",
       "      <td>3021077502</td>\n",
       "      <td>NaN</td>\n",
       "      <td>NaN</td>\n",
       "      <td>NaN</td>\n",
       "    </tr>\n",
       "    <tr>\n",
       "      <th>3</th>\n",
       "      <td>1000130001</td>\n",
       "      <td>{\"type\":\"Feature\",\"geometry\":{\"type\":\"MultiPol...</td>\n",
       "      <td>-74.014611</td>\n",
       "      <td>40.704959</td>\n",
       "    </tr>\n",
       "    <tr>\n",
       "      <th>4</th>\n",
       "      <td>1000130005</td>\n",
       "      <td>{\"type\":\"Feature\",\"geometry\":{\"type\":\"MultiPol...</td>\n",
       "      <td>-74.014242</td>\n",
       "      <td>40.705379</td>\n",
       "    </tr>\n",
       "  </tbody>\n",
       "</table>\n",
       "</div>"
      ],
      "text/plain": [
       "   10_Digit_BBL                                        GeoBuilding   Latitude  \\\n",
       "0    3017620041  {\"type\":\"Feature\",\"geometry\":{\"type\":\"MultiPol... -73.955008   \n",
       "1    1007017501                                                NaN        NaN   \n",
       "2    3021077502                                                NaN        NaN   \n",
       "3    1000130001  {\"type\":\"Feature\",\"geometry\":{\"type\":\"MultiPol... -74.014611   \n",
       "4    1000130005  {\"type\":\"Feature\",\"geometry\":{\"type\":\"MultiPol... -74.014242   \n",
       "\n",
       "   Longitude  \n",
       "0  40.692556  \n",
       "1        NaN  \n",
       "2        NaN  \n",
       "3  40.704959  \n",
       "4  40.705379  "
      ]
     },
     "execution_count": 11,
     "metadata": {},
     "output_type": "execute_result"
    }
   ],
   "source": [
    "geojson_df.head()"
   ]
  },
  {
   "cell_type": "code",
   "execution_count": null,
   "metadata": {},
   "outputs": [],
   "source": []
  }
 ],
 "metadata": {
  "kernelspec": {
   "display_name": "Python 3",
   "language": "python",
   "name": "python3"
  },
  "language_info": {
   "codemirror_mode": {
    "name": "ipython",
    "version": 3
   },
   "file_extension": ".py",
   "mimetype": "text/x-python",
   "name": "python",
   "nbconvert_exporter": "python",
   "pygments_lexer": "ipython3",
   "version": "3.10.13"
  }
 },
 "nbformat": 4,
 "nbformat_minor": 2
}
